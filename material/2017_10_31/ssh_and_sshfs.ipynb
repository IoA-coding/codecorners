{
 "cells": [
  {
   "cell_type": "markdown",
   "metadata": {},
   "source": [
    "# SSH and SSHFS\n",
    "**31 Oct 2017**\n",
    "\n",
    "Marco Tazzari"
   ]
  },
  {
   "cell_type": "markdown",
   "metadata": {},
   "source": [
    "## 1. Using the SSH `config` file"
   ]
  },
  {
   "cell_type": "markdown",
   "metadata": {},
   "source": [
    "It is a configuration file that lives in your home:\n",
    "```bash\n",
    "~/.ssh/config\n",
    "```\n",
    "If you have no `config` file in that directory, you can create it.\n",
    "\n",
    "The `config` file:\n",
    "\n",
    "- contains a sort of **address book** of the hosts you want to connect to.\n",
    "- is very handy to connect to remote servers quickly and without too much typing.\n",
    "- is portable: you can just copy your `config` file to another `~/.ssh/` and it works straight away "
   ]
  },
  {
   "cell_type": "markdown",
   "metadata": {},
   "source": [
    "Add an entry to the `config` file for each computer (*host*) you want to connect to. Each entry has to contain the following information:\n",
    "\n",
    "```bash\n",
    "host label\n",
    "\tHostname NAME or IP ADDRESS   # e.g. computer.ast.cam.ac.uk or 123.11.22.33\n",
    "\tUser USERNAME                 # your username on the host\n",
    "\tForwardAgent yes              # to forward your SSH identity (i.e. the SSH Key)\n",
    "\tForwardX11 yes                # to forward X11 window (equivalent to ssh -Y)\n",
    "\tUseKeychain yes               # for MacOS 12.2+ to remember ssh key pass phrases\n",
    "\tForwardX11Trusted yes         # for MacOS to solve compatibility issues of X11\n",
    "```\n",
    "where `label` is just a label that you can freely choose for this connection.\n",
    "\n",
    "Note that the indentation matters and the keywords have to be spelled with the correct upper cases.\n",
    "\n",
    "Once you save the ssh config, you can connect to the computer as:\n",
    "```bash\n",
    "ssh label\n",
    "```"
   ]
  },
  {
   "cell_type": "markdown",
   "metadata": {},
   "source": [
    "### Connecting to a host directly"
   ]
  },
  {
   "cell_type": "markdown",
   "metadata": {},
   "source": [
    "If you want to connect to a computer that you can directly reach (e.g. a gateway reachable from the WWW), you will just need an entry like:\n",
    "\n",
    "```bash\n",
    "host gateway\n",
    "\tHostname 111.22.33.55          # IP address or name\n",
    "\tUser john\n",
    "\tForwardAgent yes\n",
    "\tForwardX11 yes\n",
    "\tUseKeychain yes\n",
    "\tForwardX11Trusted yes\n",
    "```\n",
    "where you have to enter the correct `Hostname` and your `User` name.\n",
    "\n",
    "Once you saved the `config` file, you can connect to it with:\n",
    "```bash\n",
    "ssh gateway\n",
    "```\n",
    "Also all the other commands that rely on ssh will work likewise. E.g., copying a file is done with:\n",
    "```bash\n",
    "scp gateway:/path/to/file.txt .\n",
    "```\n",
    "\n",
    "NOTE: For the IoA you can find information on the gateways in the intranet pages **Computing -> Gateway and Remotely Accessible Machines**"
   ]
  },
  {
   "cell_type": "markdown",
   "metadata": {},
   "source": [
    "### Connecting to a host behind a gateway"
   ]
  },
  {
   "cell_type": "markdown",
   "metadata": {},
   "source": [
    "If you want to connect to a computer that is behind a gateway, you will just need two entries in the `config` files: one for the gateway and one for the desired computer. \n",
    "\n",
    "Having us already defined the gateway `gateway` in the entry above, we just need the entry for the desired computer:\n",
    "\n",
    "```bash\n",
    "host computer\n",
    "\tHostname 192.168.0.30          # IP address or name\n",
    "\tUser john\n",
    "\tForwardAgent yes\n",
    "\tProxyCommand ssh gateway -W %h:%p\n",
    "\tForwardX11 yes\n",
    "\tForwardX11Trusted yes\n",
    "\tUseKeychain yes   \n",
    "```\n",
    "where you have to enter the correct `Hostname` and your `User` name.\n",
    "\n",
    "Once you saved the `config` file, you can connect to `computer` as simply as:\n",
    "```bash\n",
    "ssh computer\n",
    "```\n",
    "\n",
    "We notice that the tunneling magic is done by the additional line:\n",
    "```bash\n",
    "\tProxyCommand ssh <Gateway Hostname> -W %h:%p\n",
    "```\n",
    "where `<Gateway Hostname>` must be equal to the `host` label in the `config` file. I\n",
    "\n",
    "Even if you pass through a gateway, you can copy files to and from `computer` as simply as:\n",
    "```bash\n",
    "scp computer:/path/to/file.txt .\n",
    "```"
   ]
  },
  {
   "cell_type": "markdown",
   "metadata": {},
   "source": [
    "## 2. Locally mount remote drives with `sshfs`"
   ]
  },
  {
   "cell_type": "markdown",
   "metadata": {},
   "source": [
    "Sometimes it might be handy to locally mount a remote drive, so that the local Operative System recognises the remote drive (or directory) as local. "
   ]
  },
  {
   "cell_type": "markdown",
   "metadata": {},
   "source": [
    "On a Mac, you will need to install **Fuse for OS X** and **SSHFS**. The installers of both the tools can  be downloaded at the development page https://osxfuse.github.io/\n",
    "\n",
    "On Linux, I believe `sshfs` should be already installed."
   ]
  },
  {
   "cell_type": "markdown",
   "metadata": {},
   "source": [
    "### Basic usage\n",
    "---\n",
    "\n",
    "#### Mounting\n",
    "Mounting a remote drive locally can be done with:\n",
    "```bash\n",
    "sshfs TARGET LOCAL_DIR\n",
    "```\n",
    "`<TARGET>`: an ssh-reachable address, e.g. `server1:/path/to/my/home/`\n",
    "\n",
    "`<LOCAL_DIR>`: a local directory on your computer, e.g. `~/remote_home/`\n",
    "\n",
    "Example:\n",
    "\n",
    "1) create a directory on your computer where you want to mount the drive, e.g.:\n",
    "```bash\n",
    "mkdir ~/remote_data/\n",
    "```\n",
    "2) mount the drive\n",
    "```bash\n",
    "sshfs computer:/path/ ~/remote_data/\n",
    "```\n",
    "You can now navigate in the remote directory `/path/` on `computer` by simply navigating locally in `~/remote_data/`.\n",
    "\n",
    "Even more nicely, on a Mac you can drag-and-drop on `~/remote_data/` to move files to-from your local computer and the remote drive.\n",
    "\n",
    "**Warning**: although in principle one could mount a whole machine or a remote drive, e.g.:\n",
    "```bash\n",
    "sshfs computer:/ ~/remote_data/\n",
    "```\n",
    "in my experience it is not good practice since it occupies more bandwidth and usually slows down the responsivity of the internet connection. \n",
    "\n",
    "#### Un-mounting\n",
    "To un-mount, simply use the command `umount`:\n",
    "```bash\n",
    "umount TARGET\n",
    "```\n",
    "To unmount in the example above:\n",
    "```\n",
    "umount computer:/path/\n",
    "```"
   ]
  },
  {
   "cell_type": "markdown",
   "metadata": {},
   "source": [
    "Finally, I find it handy to define aliases in my `.bashrc` (or `.profile`, or `.bash_profile` file):\n",
    "```bash\n",
    "alias m_computer_path=\"sshfs computer:/path/ ~/remote_data/\"\n",
    "alias u_computer_path=\"umount computer:/path/\"\n",
    "```\n",
    "so that I can mount the remote drive by simply typing in the terminal:\n",
    "```bash\n",
    "m_computer_path\n",
    "```\n",
    "and un-mount with:\n",
    "```bash\n",
    "u_computer_path\n",
    "```"
   ]
  }
 ],
 "metadata": {
  "kernelspec": {
   "display_name": "Python 2",
   "language": "python",
   "name": "python2"
  },
  "language_info": {
   "codemirror_mode": {
    "name": "ipython",
    "version": 2
   },
   "file_extension": ".py",
   "mimetype": "text/x-python",
   "name": "python",
   "nbconvert_exporter": "python",
   "pygments_lexer": "ipython2",
   "version": "2.7.13"
  }
 },
 "nbformat": 4,
 "nbformat_minor": 2
}
