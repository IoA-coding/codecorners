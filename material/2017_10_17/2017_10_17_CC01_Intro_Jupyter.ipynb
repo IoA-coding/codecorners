{
 "cells": [
  {
   "cell_type": "markdown",
   "metadata": {},
   "source": [
    "# Welcome to the IoA Code Corners!\n",
    "** 17 Oct 2017 **"
   ]
  },
  {
   "cell_type": "markdown",
   "metadata": {},
   "source": [
    "Idea: 30-45 weekly informal meeting to **share coding knowledge** and **expertise**, via:\n",
    "\n",
    " * tutorials\n",
    " * code demonstrations\n",
    " * discussions\n",
    " \n",
    "**When**: Tuesdays at 15:00. (except today and next week: 16:00)\n",
    "\n",
    "**Where**: Hoyle Committee Room (HCR)\n",
    "\n",
    "Organized by: Marco Tazzari, Matt Auger, Davide Fiacconi\n",
    "\n",
    "**Code Corners are driven by your interests**: \n",
    "\n",
    " * If you would like to present something (e.g., to give a code demonstration), please [e-mail us](mailto:mtazzari@ast.cam.ac.uk,mauger@ast.cam.ac.uk, fiacconi@ast.cam.ac.uk?subject=IoA%20CodeCorner)\n",
    " * All the contents presented/discussed here will be uploaded to the github repository [https://github.com/IoA-coding/codecorners](https://github.com/IoA-coding/codecorners)\n",
    " * Suggestions for future topics are very welcome! Post them as [issues](https://github.com/IoA-coding/codecorners/issues/1) on the github repository!\n",
    " * We also have a Google Calendar [here](https://calendar.google.com/calendar/embed?src=d2kk8d3lp2bb98vajm0calm494%40group.calendar.google.com&ctz=Europe/London).\n",
    "\n"
   ]
  },
  {
   "cell_type": "markdown",
   "metadata": {},
   "source": [
    "## This is a Jupyter notebook!"
   ]
  },
  {
   "cell_type": "code",
   "execution_count": 1,
   "metadata": {},
   "outputs": [],
   "source": [
    "x=5"
   ]
  },
  {
   "cell_type": "code",
   "execution_count": 2,
   "metadata": {},
   "outputs": [
    {
     "name": "stdout",
     "output_type": "stream",
     "text": [
      "5\n"
     ]
    }
   ],
   "source": [
    "print(x)"
   ]
  },
  {
   "cell_type": "markdown",
   "metadata": {},
   "source": [
    "Hi this is normal text\n",
    "It can contain raw input text djdasjdaos"
   ]
  },
  {
   "cell_type": "markdown",
   "metadata": {},
   "source": [
    "It can contain `markdown` formatted text::\n",
    "\n",
    "    x = 5\n",
    "    y = sum(x"
   ]
  },
  {
   "cell_type": "markdown",
   "metadata": {},
   "source": [
    "It can contain code:"
   ]
  },
  {
   "cell_type": "code",
   "execution_count": 11,
   "metadata": {},
   "outputs": [],
   "source": [
    "import numpy as np"
   ]
  },
  {
   "cell_type": "markdown",
   "metadata": {},
   "source": [
    "We can define functions and call them later:"
   ]
  },
  {
   "cell_type": "code",
   "execution_count": 4,
   "metadata": {},
   "outputs": [
    {
     "data": {
      "text/plain": [
       "array([ 0.        ,  0.8961922 ,  0.79522006, -0.19056796, -0.96431712,\n",
       "       -0.66510151,  0.37415123,  0.99709789,  0.51060568, -0.54402111])"
      ]
     },
     "execution_count": 4,
     "metadata": {},
     "output_type": "execute_result"
    }
   ],
   "source": [
    "def sin_signal(t, omega=0.1, t0=0.):\n",
    "    \"\"\"A sinusoidal signal\"\"\"\n",
    "    signal = np.sin(omega * (t-t0))\n",
    "    return signal\n",
    "\n",
    "\n",
    "# let's try\n",
    "t = np.linspace(0., 100., 10)\n",
    "\n",
    "# The output of the last entry in a cell gets printed\n",
    "sin_signal(t)\n"
   ]
  },
  {
   "cell_type": "code",
   "execution_count": 5,
   "metadata": {
    "scrolled": true
   },
   "outputs": [
    {
     "data": {
      "text/plain": [
       "array([ 0.        ,  0.01000984,  0.02001868,  0.03002552,  0.04002934,\n",
       "        0.05002916,  0.06002396,  0.07001275,  0.07999452,  0.08996827,\n",
       "        0.09993302,  0.10988774,  0.11983146,  0.12976317,  0.13968188,\n",
       "        0.14958659,  0.15947632,  0.16935006,  0.17920684,  0.18904566,\n",
       "        0.19886554,  0.20866549,  0.21844453,  0.22820168,  0.23793597,\n",
       "        0.24764642,  0.25733206,  0.26699191,  0.276625  ,  0.28623038,\n",
       "        0.29580708,  0.30535414,  0.3148706 ,  0.32435552,  0.33380793,\n",
       "        0.3432269 ,  0.35261147,  0.36196071,  0.37127369,  0.38054946,\n",
       "        0.3897871 ,  0.39898569,  0.4081443 ,  0.41726201,  0.42633791,\n",
       "        0.4353711 ,  0.44436066,  0.45330569,  0.46220531,  0.47105861,\n",
       "        0.47986471,  0.48862273,  0.49733179,  0.50599102,  0.51459954,\n",
       "        0.52315651,  0.53166105,  0.54011232,  0.54850948,  0.55685167,\n",
       "        0.56513807,  0.57336784,  0.58154016,  0.58965421,  0.59770917,\n",
       "        0.60570425,  0.61363863,  0.62151153,  0.62932216,  0.63706972,\n",
       "        0.64475345,  0.65237258,  0.65992634,  0.66741398,  0.67483474,\n",
       "        0.68218788,  0.68947267,  0.69668838,  0.70383427,  0.71090964,\n",
       "        0.71791378,  0.72484599,  0.73170556,  0.73849182,  0.74520409,\n",
       "        0.75184168,  0.75840394,  0.76489021,  0.77129983,  0.77763218,\n",
       "        0.7838866 ,  0.79006248,  0.7961592 ,  0.80217614,  0.8081127 ,\n",
       "        0.81396829,  0.81974232,  0.82543421,  0.8310434 ,  0.83656931,\n",
       "        0.84201141,  0.84736913,  0.85264195,  0.85782933,  0.86293076,\n",
       "        0.86794572,  0.87287371,  0.87771425,  0.88246684,  0.887131  ,\n",
       "        0.89170627,  0.8961922 ,  0.90058833,  0.90489422,  0.90910944,\n",
       "        0.91323357,  0.91726619,  0.9212069 ,  0.92505531,  0.92881103,\n",
       "        0.93247368,  0.9360429 ,  0.93951832,  0.94289961,  0.94618642,\n",
       "        0.94937842,  0.9524753 ,  0.95547674,  0.95838244,  0.96119211,\n",
       "        0.96390547,  0.96652224,  0.96904217,  0.97146501,  0.9737905 ,\n",
       "        0.97601842,  0.97814855,  0.98018066,  0.98211456,  0.98395005,\n",
       "        0.98568695,  0.98732509,  0.9888643 ,  0.99030442,  0.99164532,\n",
       "        0.99288685,  0.9940289 ,  0.99507134,  0.99601408,  0.99685702,\n",
       "        0.99760007,  0.99824317,  0.99878624,  0.99922924,  0.99957211,\n",
       "        0.99981483,  0.99995736,  0.9999997 ,  0.99994184,  0.99978379,\n",
       "        0.99952556,  0.99916717,  0.99870867,  0.9981501 ,  0.99749152,\n",
       "        0.99673299,  0.99587459,  0.9949164 ,  0.99385852,  0.99270105,\n",
       "        0.99144412,  0.99008785,  0.98863237,  0.98707782,  0.98542438,\n",
       "        0.98367219,  0.98182145,  0.97987232,  0.97782501,  0.97567973,\n",
       "        0.97343668,  0.97109609,  0.9686582 ,  0.96612325,  0.9634915 ,\n",
       "        0.9607632 ,  0.95793864,  0.95501809,  0.95200185,  0.94889022,\n",
       "        0.94568351,  0.94238205,  0.93898615,  0.93549618,  0.93191246,\n",
       "        0.92823537,  0.92446527,  0.92060254,  0.91664757,  0.91260074,\n",
       "        0.90846248,  0.90423319,  0.89991329,  0.89550322,  0.89100343,\n",
       "        0.88641436,  0.88173646,  0.87697022,  0.87211611,  0.86717461,\n",
       "        0.86214622,  0.85703145,  0.8518308 ,  0.84654479,  0.84117397,\n",
       "        0.83571886,  0.83018001,  0.82455797,  0.81885332,  0.81306662,\n",
       "        0.80719845,  0.80124939,  0.79522006,  0.78911104,  0.78292295,\n",
       "        0.77665642,  0.77031206,  0.76389052,  0.75739244,  0.75081847,\n",
       "        0.74416927,  0.7374455 ,  0.73064784,  0.72377697,  0.71683358,\n",
       "        0.70981836,  0.70273201,  0.69557526,  0.68834881,  0.68105338,\n",
       "        0.67368972,  0.66625855,  0.65876062,  0.65119668,  0.6435675 ,\n",
       "        0.63587383,  0.62811645,  0.62029613,  0.61241365,  0.60446981,\n",
       "        0.59646541,  0.58840124,  0.58027811,  0.57209684,  0.56385824,\n",
       "        0.55556315,  0.54721239,  0.5388068 ,  0.53034722,  0.5218345 ,\n",
       "        0.51326949,  0.50465305,  0.49598605,  0.48726935,  0.47850382,\n",
       "        0.46969035,  0.46082982,  0.45192311,  0.44297112,  0.43397474,\n",
       "        0.42493488,  0.41585245,  0.40672834,  0.39756348,  0.38835878,\n",
       "        0.37911517,  0.36983358,  0.36051492,  0.35116015,  0.34177018,\n",
       "        0.33234597,  0.32288847,  0.3133986 ,  0.30387734,  0.29432562,\n",
       "        0.28474442,  0.27513468,  0.26549738,  0.25583347,  0.24614393,\n",
       "        0.23642973,  0.22669183,  0.21693122,  0.20714888,  0.19734578,\n",
       "        0.1875229 ,  0.17768124,  0.16782177,  0.15794548,  0.14805337,\n",
       "        0.13814643,  0.12822564,  0.118292  ,  0.10834651,  0.09839017,\n",
       "        0.08842397,  0.0784489 ,  0.06846598,  0.05847619,  0.04848055,\n",
       "        0.03848005,  0.02847569,  0.01846848,  0.00845942, -0.00155049,\n",
       "       -0.01156024, -0.02156884, -0.03157527, -0.04157854, -0.05157764,\n",
       "       -0.06157158, -0.07155935, -0.08153994, -0.09151237, -0.10147562,\n",
       "       -0.11142871, -0.12137064, -0.1313004 , -0.141217  , -0.15111946,\n",
       "       -0.16100677, -0.17087795, -0.18073201, -0.19056796, -0.20038482,\n",
       "       -0.21018159, -0.21995731, -0.22971099, -0.23944165, -0.24914832,\n",
       "       -0.25883002, -0.26848579, -0.27811466, -0.28771566, -0.29728783,\n",
       "       -0.30683021, -0.31634185, -0.32582179, -0.33526908, -0.34468278,\n",
       "       -0.35406195, -0.36340563, -0.37271291, -0.38198284, -0.39121449,\n",
       "       -0.40040694, -0.40955928, -0.41867057, -0.42773992, -0.4367664 ,\n",
       "       -0.44574912, -0.45468718, -0.46357968, -0.47242573, -0.48122444,\n",
       "       -0.48997494, -0.49867633, -0.50732776, -0.51592836, -0.52447726,\n",
       "       -0.53297361, -0.54141656, -0.54980525, -0.55813886, -0.56641654,\n",
       "       -0.57463746, -0.58280081, -0.59090576, -0.5989515 , -0.60693723,\n",
       "       -0.61486214, -0.62272545, -0.63052635, -0.63826408, -0.64593786,\n",
       "       -0.65354691, -0.66109048, -0.66856781, -0.67597814, -0.68332075,\n",
       "       -0.69059488, -0.69779982, -0.70493484, -0.71199922, -0.71899227,\n",
       "       -0.72591327, -0.73276153, -0.73953637, -0.74623711, -0.75286308,\n",
       "       -0.75941361, -0.76588805, -0.77228575, -0.77860606, -0.78484836,\n",
       "       -0.79101202, -0.79709642, -0.80310095, -0.80902501, -0.814868  ,\n",
       "       -0.82062935, -0.82630847, -0.83190479, -0.83741776, -0.84284682,\n",
       "       -0.84819143, -0.85345104, -0.85862515, -0.86371322, -0.86871474,\n",
       "       -0.87362922, -0.87845616, -0.88319509, -0.88784551, -0.89240698,\n",
       "       -0.89687902, -0.9012612 , -0.90555308, -0.90975421, -0.91386419,\n",
       "       -0.91788261, -0.92180905, -0.92564312, -0.92938445, -0.93303265,\n",
       "       -0.93658737, -0.94004823, -0.94341491, -0.94668706, -0.94986435,\n",
       "       -0.95294646, -0.95593309, -0.95882393, -0.9616187 , -0.96431712,\n",
       "       -0.96691891, -0.96942382, -0.97183159, -0.97414198, -0.97635477,\n",
       "       -0.97846973, -0.98048664, -0.98240531, -0.98422555, -0.98594716,\n",
       "       -0.98756998, -0.98909385, -0.99051862, -0.99184413, -0.99307026,\n",
       "       -0.99419689, -0.99522389, -0.99615118, -0.99697865, -0.99770623,\n",
       "       -0.99833384, -0.99886141, -0.9992889 , -0.99961626, -0.99984346,\n",
       "       -0.99997048, -0.9999973 , -0.99992392, -0.99975034, -0.9994766 ,\n",
       "       -0.9991027 , -0.9986287 , -0.99805464, -0.99738057, -0.99660656,\n",
       "       -0.9957327 , -0.99475906, -0.99368575, -0.99251287, -0.99124054,\n",
       "       -0.98986889, -0.98839806, -0.98682819, -0.98515943, -0.98339197,\n",
       "       -0.98152597, -0.97956163, -0.97749913, -0.97533868, -0.97308051,\n",
       "       -0.97072484, -0.9682719 , -0.96572194, -0.96307521, -0.96033199,\n",
       "       -0.95749254, -0.95455715, -0.95152611, -0.94839974, -0.94517833,\n",
       "       -0.94186221, -0.93845173, -0.93494721, -0.93134901, -0.92765748,\n",
       "       -0.92387301, -0.91999597, -0.91602674, -0.91196573, -0.90781333,\n",
       "       -0.90356998, -0.89923609, -0.8948121 , -0.89029844, -0.88569558,\n",
       "       -0.88100397, -0.87622409, -0.87135641, -0.86640142, -0.86135962,\n",
       "       -0.85623151, -0.8510176 , -0.84571842, -0.84033451, -0.83486639,\n",
       "       -0.82931462, -0.82367975, -0.81796235, -0.81216299, -0.80628225,\n",
       "       -0.80032073, -0.79427901, -0.7881577 , -0.78195742, -0.77567879,\n",
       "       -0.76932244, -0.762889  , -0.75637913, -0.74979346, -0.74313266,\n",
       "       -0.7363974 , -0.72958836, -0.72270621, -0.71575164, -0.70872536,\n",
       "       -0.70162807, -0.69446047, -0.68722329, -0.67991724, -0.67254307,\n",
       "       -0.66510151, -0.65759331, -0.65001922, -0.64238   , -0.63467641,\n",
       "       -0.62690923, -0.61907923, -0.6111872 , -0.60323392, -0.59522021,\n",
       "       -0.58714685, -0.57901466, -0.57082446, -0.56257706, -0.55427329,\n",
       "       -0.54591398, -0.53749997, -0.5290321 , -0.52051123, -0.5119382 ,\n",
       "       -0.50331387, -0.49463911, -0.48591479, -0.47714179, -0.46832097,\n",
       "       -0.45945322, -0.45053944, -0.44158052, -0.43257735, -0.42353083,\n",
       "       -0.41444188, -0.4053114 , -0.39614031, -0.38692953, -0.37767997,\n",
       "       -0.36839258, -0.35906827, -0.34970798, -0.34031265, -0.33088322,\n",
       "       -0.32142064, -0.31192585, -0.3023998 , -0.29284346, -0.28325777,\n",
       "       -0.2736437 , -0.26400222, -0.25433428, -0.24464085, -0.23492291,\n",
       "       -0.22518144, -0.2154174 , -0.20563177, -0.19582554, -0.18599969,\n",
       "       -0.1761552 , -0.16629307, -0.15641427, -0.14651979, -0.13661064,\n",
       "       -0.12668779, -0.11675226, -0.10680502, -0.09684708, -0.08687944,\n",
       "       -0.0769031 , -0.06691904, -0.05692829, -0.04693183, -0.03693066,\n",
       "       -0.0269258 , -0.01691823, -0.00690898,  0.00310097,  0.01311061,\n",
       "        0.02311894,  0.03312495,  0.04312764,  0.05312601,  0.06311905,\n",
       "        0.07310577,  0.08308517,  0.09305624,  0.10301799,  0.11296941,\n",
       "        0.12290952,  0.13283731,  0.14275178,  0.15265196,  0.16253684,\n",
       "        0.17240543,  0.18225675,  0.19208981,  0.20190362,  0.2116972 ,\n",
       "        0.22146956,  0.23121974,  0.24094675,  0.25064961,  0.26032736,\n",
       "        0.26997903,  0.27960364,  0.28920024,  0.29876786,  0.30830554,\n",
       "        0.31781233,  0.32728728,  0.33672943,  0.34613784,  0.35551157,\n",
       "        0.36484968,  0.37415123,  0.38341529,  0.39264093,  0.40182723,\n",
       "        0.41097327,  0.42007813,  0.42914089,  0.43816066,  0.44713652,\n",
       "        0.45606758,  0.46495294,  0.47379172,  0.48258302,  0.49132596,\n",
       "        0.50001968,  0.50866329,  0.51725594,  0.52579676,  0.53428489,\n",
       "        0.54271949,  0.5510997 ,  0.5594247 ,  0.56769364,  0.5759057 ,\n",
       "        0.58406006,  0.59215589,  0.60019239,  0.60816875,  0.61608417,\n",
       "        0.62393786,  0.63172904,  0.63945691,  0.64712071,  0.65471967,\n",
       "        0.66225303,  0.66972002,  0.67711992,  0.68445196,  0.69171543,\n",
       "        0.69890958,  0.70603371,  0.71308709,  0.72006902,  0.7269788 ,\n",
       "        0.73381574,  0.74057914,  0.74726835,  0.75388267,  0.76042146,\n",
       "        0.76688406,  0.77326981,  0.77957808,  0.78580824,  0.79195966,\n",
       "        0.79803173,  0.80402383,  0.80993537,  0.81576576,  0.82151441,\n",
       "        0.82718074,  0.83276419,  0.8382642 ,  0.84368021,  0.84901169,\n",
       "        0.85425809,  0.8594189 ,  0.8644936 ,  0.86948167,  0.87438263,\n",
       "        0.87919597,  0.88392121,  0.88855789,  0.89310553,  0.89756369,\n",
       "        0.90193191,  0.90620976,  0.9103968 ,  0.91449263,  0.91849682,\n",
       "        0.92240898,  0.92622871,  0.92995564,  0.93358938,  0.93712958,\n",
       "        0.94057589,  0.94392794,  0.94718542,  0.95034798,  0.95341533,\n",
       "        0.95638714,  0.95926312,  0.96204298,  0.96472645,  0.96731325,\n",
       "        0.96980313,  0.97219584,  0.97449113,  0.97668877,  0.97878856,\n",
       "        0.98079027,  0.9826937 ,  0.98449867,  0.986205  ,  0.9878125 ,\n",
       "        0.98932103,  0.99073043,  0.99204056,  0.99325128,  0.99436249,\n",
       "        0.99537405,  0.99628589,  0.99709789,  0.99780999,  0.9984221 ,\n",
       "        0.99893418,  0.99934616,  0.99965801,  0.99986969,  0.99998119,\n",
       "        0.99999249,  0.99990359,  0.9997145 ,  0.99942524,  0.99903584,\n",
       "        0.99854633,  0.99795677,  0.99726722,  0.99647774,  0.99558841,\n",
       "        0.99459933,  0.99351059,  0.9923223 ,  0.99103458,  0.98964756,\n",
       "        0.98816137,  0.98657617,  0.98489212,  0.98310938,  0.98122814,\n",
       "        0.97924858,  0.97717089,  0.9749953 ,  0.97272201,  0.97035125,\n",
       "        0.96788327,  0.9653183 ,  0.96265661,  0.95989847,  0.95704414,\n",
       "        0.95409391,  0.95104809,  0.94790697,  0.94467087,  0.94134012,\n",
       "        0.93791504,  0.93439599,  0.93078331,  0.92707737,  0.92327853,\n",
       "        0.91938718,  0.91540371,  0.91132852,  0.90716201,  0.9029046 ,\n",
       "        0.89855673,  0.89411881,  0.88959131,  0.88497468,  0.88026936,\n",
       "        0.87547585,  0.87059461,  0.86562614,  0.86057094,  0.85542951,\n",
       "        0.85020236,  0.84489002,  0.83949303,  0.83401192,  0.82844724,\n",
       "        0.82279955,  0.81706941,  0.81125741,  0.80536412,  0.79939013,\n",
       "        0.79333605,  0.78720247,  0.78099002,  0.77469931,  0.76833097,\n",
       "        0.76188565,  0.75536399,  0.74876664,  0.74209427,  0.73534754,\n",
       "        0.72852712,  0.72163371,  0.71466799,  0.70763067,  0.70052243,\n",
       "        0.69334401,  0.68609611,  0.67877947,  0.67139481,  0.66394288,\n",
       "        0.65642443,  0.6488402 ,  0.64119095,  0.63347746,  0.6257005 ,\n",
       "        0.61786084,  0.60995927,  0.60199658,  0.59397358,  0.58589106,\n",
       "        0.57774983,  0.56955071,  0.56129452,  0.5529821 ,  0.54461426,\n",
       "        0.53619185,  0.52771572,  0.51918671,  0.51060568,  0.50197348,\n",
       "        0.49329099,  0.48455907,  0.4757786 ,  0.46695046,  0.45807552,\n",
       "        0.44915469,  0.44018886,  0.43117891,  0.42212577,  0.41303032,\n",
       "        0.40389349,  0.39471619,  0.38549934,  0.37624387,  0.36695069,\n",
       "        0.35762075,  0.34825497,  0.3388543 ,  0.32941967,  0.31995204,\n",
       "        0.31045234,  0.30092154,  0.29136059,  0.28177045,  0.27215207,\n",
       "        0.26250642,  0.25283447,  0.24313718,  0.23341553,  0.2236705 ,\n",
       "        0.21390305,  0.20411417,  0.19430484,  0.18447604,  0.17462875,\n",
       "        0.16476397,  0.15488267,  0.14498586,  0.13507452,  0.12514965,\n",
       "        0.11521223,  0.10526327,  0.09530377,  0.08533471,  0.07535711,\n",
       "        0.06537195,  0.05538024,  0.04538299,  0.03538119,  0.02537584,\n",
       "        0.01536795,  0.00535852, -0.00465145, -0.01466095, -0.02466899,\n",
       "       -0.03467455, -0.04467663, -0.05467424, -0.06466637, -0.07465203,\n",
       "       -0.0846302 , -0.09459989, -0.1045601 , -0.11450984, -0.1244481 ,\n",
       "       -0.13437389, -0.14428622, -0.15418409, -0.16406652, -0.1739325 ,\n",
       "       -0.18378105, -0.19361119, -0.20342193, -0.21321229, -0.22298128,\n",
       "       -0.23272793, -0.24245127, -0.2521503 , -0.26182408, -0.27147162,\n",
       "       -0.28109195, -0.29068412, -0.30024717, -0.30978013, -0.31928205,\n",
       "       -0.32875198, -0.33818897, -0.34759207, -0.35696034, -0.36629285,\n",
       "       -0.37558865, -0.38484682, -0.39406643, -0.40324656, -0.41238627,\n",
       "       -0.42148467, -0.43054084, -0.43955386, -0.44852284, -0.45744688,\n",
       "       -0.46632509, -0.47515657, -0.48394043, -0.49267581, -0.50136182,\n",
       "       -0.5099976 , -0.51858227, -0.52711499, -0.53559488, -0.54402111])"
      ]
     },
     "execution_count": 5,
     "metadata": {},
     "output_type": "execute_result"
    }
   ],
   "source": [
    "# Sometimes, the output is too much..\n",
    "sin_signal(np.linspace(0., 100., 1000))"
   ]
  },
  {
   "cell_type": "markdown",
   "metadata": {},
   "source": [
    "The output can be suppressed adding a \";\" at the end of the command, e.g.:"
   ]
  },
  {
   "cell_type": "code",
   "execution_count": 6,
   "metadata": {},
   "outputs": [],
   "source": [
    "sin_signal(np.linspace(0., 100., 1000));"
   ]
  },
  {
   "cell_type": "markdown",
   "metadata": {},
   "source": [
    "Text formatting is very handy. It is based on Markdown directives, see here a useful [cheatsheet](https://github.com/adam-p/markdown-here/wiki/Markdown-Cheatsheet).\n",
    "\n",
    "Markdown allows you to write even LaTex text, which enables a nice way of presenting results.\n"
   ]
  },
  {
   "cell_type": "markdown",
   "metadata": {},
   "source": [
    "In the example above we assumed a **sinusoidal signal** defined as:\n",
    "$$\n",
    "f(t) = sin(\\omega (t-t_0))\n",
    "$$\n",
    "where $t$ (s) is time, $\\omega$ (rad/s) is frequency, and $t_0$ (s) is the initial offset."
   ]
  },
  {
   "cell_type": "markdown",
   "metadata": {},
   "source": [
    "Learn shortcuts: **CMD+Shift+P** is your friend! "
   ]
  },
  {
   "cell_type": "markdown",
   "metadata": {},
   "source": [
    "#### Code inspection: docstrings\n"
   ]
  },
  {
   "cell_type": "markdown",
   "metadata": {},
   "source": [
    "To inspect that a function does, you can print it, but the output is not very informative:"
   ]
  },
  {
   "cell_type": "code",
   "execution_count": 7,
   "metadata": {},
   "outputs": [
    {
     "data": {
      "text/plain": [
       "<function numpy.lib.function_base.histogram>"
      ]
     },
     "execution_count": 7,
     "metadata": {},
     "output_type": "execute_result"
    }
   ],
   "source": [
    "np.histogram"
   ]
  },
  {
   "cell_type": "markdown",
   "metadata": {},
   "source": [
    "Better with \"?\" or \"??\" at the end"
   ]
  },
  {
   "cell_type": "code",
   "execution_count": 8,
   "metadata": {},
   "outputs": [],
   "source": [
    "np.histogram?\n",
    "# or ?np.histogram"
   ]
  },
  {
   "cell_type": "code",
   "execution_count": 9,
   "metadata": {},
   "outputs": [],
   "source": [
    "np.histogram??"
   ]
  },
  {
   "cell_type": "markdown",
   "metadata": {},
   "source": [
    "## Embedding plots"
   ]
  },
  {
   "cell_type": "markdown",
   "metadata": {},
   "source": [
    "These are the typical init lines to get plots embedded.\n",
    "`matplotlib` is one choice among many libraries. \n",
    "\n",
    "(A future code corner could cover plotting libraries: interested?)"
   ]
  },
  {
   "cell_type": "code",
   "execution_count": 4,
   "metadata": {},
   "outputs": [],
   "source": [
    "import matplotlib as mpl\n",
    "import matplotlib.pyplot as plt\n",
    "%matplotlib inline\n",
    "mpl.rcParams['figure.figsize'] = (8,5)\n",
    "mpl.rcParams['font.size'] = 18\n"
   ]
  },
  {
   "cell_type": "markdown",
   "metadata": {},
   "source": [
    "Let's plot!"
   ]
  },
  {
   "cell_type": "code",
   "execution_count": 11,
   "metadata": {
    "scrolled": false
   },
   "outputs": [
    {
     "name": "stdout",
     "output_type": "stream",
     "text": [
      "Overwriting plot.py\n"
     ]
    }
   ],
   "source": [
    "%%writefile plot.py\n",
    "t = np.linspace(0., 100., 1000)\n",
    "\n",
    "plt.plot(t, sin_signal(t))\n",
    "plt.plot(t, sin_signal(t, omega=0.2))\n",
    "# plt.plot(t, signal(t, omega=0.2, t0=-15))\n",
    "\n",
    "plt.xlabel(\"Time (t)\")\n",
    "plt.ylabel(\"Signal\")\n",
    "\n",
    "plt.savefig(\"figure.png\")"
   ]
  },
  {
   "cell_type": "code",
   "execution_count": 12,
   "metadata": {},
   "outputs": [],
   "source": [
    "%pycat plot.py"
   ]
  },
  {
   "cell_type": "markdown",
   "metadata": {},
   "source": [
    "# Jupyter magics"
   ]
  },
  {
   "cell_type": "code",
   "execution_count": 13,
   "metadata": {},
   "outputs": [
    {
     "data": {
      "application/json": {
       "cell": {
        "!": "OSMagics",
        "HTML": "Other",
        "SVG": "Other",
        "bash": "Other",
        "capture": "ExecutionMagics",
        "debug": "ExecutionMagics",
        "file": "Other",
        "html": "DisplayMagics",
        "javascript": "DisplayMagics",
        "js": "DisplayMagics",
        "latex": "DisplayMagics",
        "markdown": "DisplayMagics",
        "perl": "Other",
        "prun": "ExecutionMagics",
        "pypy": "Other",
        "python": "Other",
        "python2": "Other",
        "python3": "Other",
        "ruby": "Other",
        "script": "ScriptMagics",
        "sh": "Other",
        "svg": "DisplayMagics",
        "sx": "OSMagics",
        "system": "OSMagics",
        "time": "ExecutionMagics",
        "timeit": "ExecutionMagics",
        "writefile": "OSMagics"
       },
       "line": {
        "alias": "OSMagics",
        "alias_magic": "BasicMagics",
        "autocall": "AutoMagics",
        "automagic": "AutoMagics",
        "autosave": "KernelMagics",
        "bookmark": "OSMagics",
        "cat": "Other",
        "cd": "OSMagics",
        "clear": "KernelMagics",
        "colors": "BasicMagics",
        "config": "ConfigMagics",
        "connect_info": "KernelMagics",
        "cp": "Other",
        "debug": "ExecutionMagics",
        "dhist": "OSMagics",
        "dirs": "OSMagics",
        "doctest_mode": "BasicMagics",
        "ed": "Other",
        "edit": "KernelMagics",
        "env": "OSMagics",
        "gui": "BasicMagics",
        "hist": "Other",
        "history": "HistoryMagics",
        "killbgscripts": "ScriptMagics",
        "ldir": "Other",
        "less": "KernelMagics",
        "lf": "Other",
        "lk": "Other",
        "ll": "Other",
        "load": "CodeMagics",
        "load_ext": "ExtensionMagics",
        "loadpy": "CodeMagics",
        "logoff": "LoggingMagics",
        "logon": "LoggingMagics",
        "logstart": "LoggingMagics",
        "logstate": "LoggingMagics",
        "logstop": "LoggingMagics",
        "ls": "Other",
        "lsmagic": "BasicMagics",
        "lx": "Other",
        "macro": "ExecutionMagics",
        "magic": "BasicMagics",
        "man": "KernelMagics",
        "matplotlib": "PylabMagics",
        "mkdir": "Other",
        "more": "KernelMagics",
        "mv": "Other",
        "notebook": "BasicMagics",
        "page": "BasicMagics",
        "pastebin": "CodeMagics",
        "pdb": "ExecutionMagics",
        "pdef": "NamespaceMagics",
        "pdoc": "NamespaceMagics",
        "pfile": "NamespaceMagics",
        "pinfo": "NamespaceMagics",
        "pinfo2": "NamespaceMagics",
        "pip": "BasicMagics",
        "popd": "OSMagics",
        "pprint": "BasicMagics",
        "precision": "BasicMagics",
        "profile": "BasicMagics",
        "prun": "ExecutionMagics",
        "psearch": "NamespaceMagics",
        "psource": "NamespaceMagics",
        "pushd": "OSMagics",
        "pwd": "OSMagics",
        "pycat": "OSMagics",
        "pylab": "PylabMagics",
        "qtconsole": "KernelMagics",
        "quickref": "BasicMagics",
        "recall": "HistoryMagics",
        "rehashx": "OSMagics",
        "reload_ext": "ExtensionMagics",
        "rep": "Other",
        "rerun": "HistoryMagics",
        "reset": "NamespaceMagics",
        "reset_selective": "NamespaceMagics",
        "rm": "Other",
        "rmdir": "Other",
        "run": "ExecutionMagics",
        "save": "CodeMagics",
        "sc": "OSMagics",
        "set_env": "OSMagics",
        "store": "StoreMagics",
        "sx": "OSMagics",
        "system": "OSMagics",
        "tb": "ExecutionMagics",
        "time": "ExecutionMagics",
        "timeit": "ExecutionMagics",
        "unalias": "OSMagics",
        "unload_ext": "ExtensionMagics",
        "who": "NamespaceMagics",
        "who_ls": "NamespaceMagics",
        "whos": "NamespaceMagics",
        "xdel": "NamespaceMagics",
        "xmode": "BasicMagics"
       }
      },
      "text/plain": [
       "Available line magics:\n",
       "%alias  %alias_magic  %autocall  %automagic  %autosave  %bookmark  %cat  %cd  %clear  %colors  %config  %connect_info  %cp  %debug  %dhist  %dirs  %doctest_mode  %ed  %edit  %env  %gui  %hist  %history  %killbgscripts  %ldir  %less  %lf  %lk  %ll  %load  %load_ext  %loadpy  %logoff  %logon  %logstart  %logstate  %logstop  %ls  %lsmagic  %lx  %macro  %magic  %man  %matplotlib  %mkdir  %more  %mv  %notebook  %page  %pastebin  %pdb  %pdef  %pdoc  %pfile  %pinfo  %pinfo2  %popd  %pprint  %precision  %profile  %prun  %psearch  %psource  %pushd  %pwd  %pycat  %pylab  %qtconsole  %quickref  %recall  %rehashx  %reload_ext  %rep  %rerun  %reset  %reset_selective  %rm  %rmdir  %run  %save  %sc  %set_env  %store  %sx  %system  %tb  %time  %timeit  %unalias  %unload_ext  %who  %who_ls  %whos  %xdel  %xmode\n",
       "\n",
       "Available cell magics:\n",
       "%%!  %%HTML  %%SVG  %%bash  %%capture  %%debug  %%file  %%html  %%javascript  %%js  %%latex  %%markdown  %%perl  %%prun  %%pypy  %%python  %%python2  %%python3  %%ruby  %%script  %%sh  %%svg  %%sx  %%system  %%time  %%timeit  %%writefile\n",
       "\n",
       "Automagic is ON, % prefix IS NOT needed for line magics."
      ]
     },
     "execution_count": 13,
     "metadata": {},
     "output_type": "execute_result"
    }
   ],
   "source": [
    "## Jupyter magics\n",
    "# This will list all magic commands\n",
    "%lsmagic"
   ]
  },
  {
   "cell_type": "markdown",
   "metadata": {},
   "source": [
    "### Example: `%%timeit`"
   ]
  },
  {
   "cell_type": "code",
   "execution_count": 14,
   "metadata": {},
   "outputs": [],
   "source": [
    "def sum_py(x):\n",
    "    \"\"\"A not very smart sum function\"\"\"\n",
    "    N = len(x)\n",
    "    sum = 0\n",
    "    for i in range(N):\n",
    "        sum += x[i]\n",
    "    return sum\n"
   ]
  },
  {
   "cell_type": "markdown",
   "metadata": {},
   "source": [
    "You can time any function by simply using the `%%timeit` magic:"
   ]
  },
  {
   "cell_type": "code",
   "execution_count": 15,
   "metadata": {},
   "outputs": [],
   "source": [
    "N = 1000"
   ]
  },
  {
   "cell_type": "code",
   "execution_count": 16,
   "metadata": {},
   "outputs": [
    {
     "name": "stdout",
     "output_type": "stream",
     "text": [
      "164 µs ± 6.83 µs per loop (mean ± std. dev. of 7 runs, 10000 loops each)\n"
     ]
    }
   ],
   "source": [
    "%%timeit\n",
    "sum_py(np.arange(N, dtype='float64'))"
   ]
  },
  {
   "cell_type": "code",
   "execution_count": 17,
   "metadata": {},
   "outputs": [],
   "source": [
    "N = 100000"
   ]
  },
  {
   "cell_type": "code",
   "execution_count": 18,
   "metadata": {},
   "outputs": [
    {
     "name": "stdout",
     "output_type": "stream",
     "text": [
      "16.7 ms ± 790 µs per loop (mean ± std. dev. of 7 runs, 100 loops each)\n"
     ]
    }
   ],
   "source": [
    "%%timeit\n",
    "sum_py(np.arange(N, dtype='float64'))"
   ]
  },
  {
   "cell_type": "markdown",
   "metadata": {},
   "source": [
    "Warning: all the variables and functions that you defined in the notebook are retained in memory in the same *namespace*.\n",
    "\n",
    "Sometimes this makes debuggin rather tricky, but `whos` comes in our rescue: it shows all the defined objects variables, functions,..."
   ]
  },
  {
   "cell_type": "markdown",
   "metadata": {},
   "source": [
    "#### Another useful helper func: `whos`"
   ]
  },
  {
   "cell_type": "code",
   "execution_count": 19,
   "metadata": {},
   "outputs": [
    {
     "name": "stdout",
     "output_type": "stream",
     "text": [
      "Variable     Type        Data/Info\n",
      "----------------------------------\n",
      "N            int         100000\n",
      "mpl          module      <module 'matplotlib' from<...>/matplotlib/__init__.py'>\n",
      "np           module      <module 'numpy' from '/Us<...>kages/numpy/__init__.py'>\n",
      "plt          module      <module 'matplotlib.pyplo<...>es/matplotlib/pyplot.py'>\n",
      "sin_signal   function    <function sin_signal at 0x114522bf8>\n",
      "sum_py       function    <function sum_py at 0x11a01dc80>\n",
      "t            ndarray     10: 10 elems, type `float64`, 80 bytes\n",
      "x            int         5\n"
     ]
    }
   ],
   "source": [
    "whos"
   ]
  },
  {
   "cell_type": "code",
   "execution_count": 20,
   "metadata": {},
   "outputs": [
    {
     "name": "stdout",
     "output_type": "stream",
     "text": [
      "sin_signal\t sum_py\t \n"
     ]
    }
   ],
   "source": [
    "%who function"
   ]
  },
  {
   "cell_type": "markdown",
   "metadata": {},
   "source": [
    "### Executing code other than Python"
   ]
  },
  {
   "cell_type": "markdown",
   "metadata": {},
   "source": [
    "You can also execute single bash lines prepending a \"!\":"
   ]
  },
  {
   "cell_type": "code",
   "execution_count": 21,
   "metadata": {},
   "outputs": [
    {
     "name": "stdout",
     "output_type": "stream",
     "text": [
      "2017_10_17_CC01_Intro_Jupyter.ipynb input_file.txt\r\n",
      "dkdas.ipynb                         plot.py\r\n",
      "figure.png\r\n"
     ]
    }
   ],
   "source": [
    "! ls ."
   ]
  },
  {
   "cell_type": "markdown",
   "metadata": {},
   "source": [
    "or more compicated bash scripts as:"
   ]
  },
  {
   "cell_type": "code",
   "execution_count": 22,
   "metadata": {},
   "outputs": [
    {
     "name": "stdout",
     "output_type": "stream",
     "text": [
      "1\n",
      "2\n",
      "3\n",
      "4\n",
      "5\n",
      "6\n",
      "7\n",
      "8\n",
      "9\n",
      "10\n"
     ]
    }
   ],
   "source": [
    "%%bash\n",
    "\n",
    "for i in `seq 1 10`;\n",
    "    do\n",
    "            echo $i\n",
    "    done "
   ]
  },
  {
   "cell_type": "markdown",
   "metadata": {},
   "source": [
    "## Widgets"
   ]
  },
  {
   "cell_type": "markdown",
   "metadata": {},
   "source": [
    "iPython widgets are nice and simple tools to produce interactive data presentations.\n",
    "\n",
    "Detailed documentation with examples here: https://ipywidgets.readthedocs.io/en/stable/index.html"
   ]
  },
  {
   "cell_type": "code",
   "execution_count": 7,
   "metadata": {},
   "outputs": [],
   "source": [
    "from ipywidgets import interactive"
   ]
  },
  {
   "cell_type": "code",
   "execution_count": 12,
   "metadata": {},
   "outputs": [],
   "source": [
    "def f(m, b):\n",
    "    plt.figure(2)\n",
    "    x = np.linspace(-10, 10, num=1000)\n",
    "    plt.plot(x, m * x + b)\n",
    "    plt.ylim(-5, 5)\n",
    "    plt.show()\n",
    "\n",
    "\n",
    "interactive_plot = interactive(f, m=(-2.0, 2.0), b=(-3, 3, 0.5))\n",
    "output = interactive_plot.children[-1]\n",
    "output.layout.height = '350px'\n",
    "\n"
   ]
  },
  {
   "cell_type": "code",
   "execution_count": 13,
   "metadata": {},
   "outputs": [
    {
     "data": {
      "application/vnd.jupyter.widget-view+json": {
       "model_id": "b8ae190598f541a19be65c9a42191909",
       "version_major": 2,
       "version_minor": 0
      },
      "text/html": [
       "<p>Failed to display Jupyter Widget of type <code>interactive</code>.</p>\n",
       "<p>\n",
       "  If you're reading this message in Jupyter Notebook or JupyterLab, it may mean\n",
       "  that the widgets JavaScript is still loading. If this message persists, it\n",
       "  likely means that the widgets JavaScript library is either not installed or\n",
       "  not enabled. See the <a href=\"https://ipywidgets.readthedocs.io/en/stable/user_install.html\">Jupyter\n",
       "  Widgets Documentation</a> for setup instructions.\n",
       "</p>\n",
       "<p>\n",
       "  If you're reading this message in another notebook frontend (for example, a static\n",
       "  rendering on GitHub or <a href=\"https://nbviewer.jupyter.org/\">NBViewer</a>),\n",
       "  it may mean that your frontend doesn't currently support widgets.\n",
       "</p>\n"
      ],
      "text/plain": [
       "interactive(children=(FloatSlider(value=0.0, description='m', max=2.0, min=-2.0), FloatSlider(value=0.0, description='b', max=3.0, min=-3.0, step=0.5), Output(layout=Layout(height='350px'))), _dom_classes=('widget-interact',))"
      ]
     },
     "metadata": {},
     "output_type": "display_data"
    }
   ],
   "source": [
    "interactive_plot"
   ]
  },
  {
   "cell_type": "code",
   "execution_count": 14,
   "metadata": {},
   "outputs": [],
   "source": [
    "def sin_signal(omega=0.1, t0=0.):\n",
    "    \"\"\"A sinusoidal signal\"\"\"\n",
    "    \n",
    "    N = 10000\n",
    "    t = np.linspace(0., 100., N)\n",
    "    signal = np.sin(omega * (t-t0))\n",
    "    plt.plot(t, signal)\n",
    "    plt.show()\n",
    "    return \n",
    "\n",
    "\n",
    "\n",
    "interactive_plot2 = interactive(sin_signal, omega=(0, 1, 0.1), t0=(-30, 30, 0.5))\n",
    "output = interactive_plot2.children[-1]\n",
    "output.layout.height = '350px'\n",
    "\n",
    "\n"
   ]
  },
  {
   "cell_type": "code",
   "execution_count": 15,
   "metadata": {},
   "outputs": [
    {
     "data": {
      "application/vnd.jupyter.widget-view+json": {
       "model_id": "64c2eab5b2d043dca881acf7d76e2dd5",
       "version_major": 2,
       "version_minor": 0
      },
      "text/html": [
       "<p>Failed to display Jupyter Widget of type <code>interactive</code>.</p>\n",
       "<p>\n",
       "  If you're reading this message in Jupyter Notebook or JupyterLab, it may mean\n",
       "  that the widgets JavaScript is still loading. If this message persists, it\n",
       "  likely means that the widgets JavaScript library is either not installed or\n",
       "  not enabled. See the <a href=\"https://ipywidgets.readthedocs.io/en/stable/user_install.html\">Jupyter\n",
       "  Widgets Documentation</a> for setup instructions.\n",
       "</p>\n",
       "<p>\n",
       "  If you're reading this message in another notebook frontend (for example, a static\n",
       "  rendering on GitHub or <a href=\"https://nbviewer.jupyter.org/\">NBViewer</a>),\n",
       "  it may mean that your frontend doesn't currently support widgets.\n",
       "</p>\n"
      ],
      "text/plain": [
       "interactive(children=(FloatSlider(value=0.1, description='omega', max=1.0), FloatSlider(value=0.0, description='t0', max=30.0, min=-30.0, step=0.5), Output(layout=Layout(height='350px'))), _dom_classes=('widget-interact',))"
      ]
     },
     "metadata": {},
     "output_type": "display_data"
    }
   ],
   "source": [
    "interactive_plot2"
   ]
  },
  {
   "cell_type": "markdown",
   "metadata": {},
   "source": [
    "## Extensions"
   ]
  },
  {
   "cell_type": "markdown",
   "metadata": {},
   "source": [
    "Jupyter notebooks also have many user-contributed extensions.\n",
    "\n",
    "Check them out here: https://github.com/ipython-contrib/jupyter_contrib_nbextensions"
   ]
  },
  {
   "cell_type": "markdown",
   "metadata": {},
   "source": [
    "### Extension example: table of Content"
   ]
  },
  {
   "cell_type": "markdown",
   "metadata": {},
   "source": [
    "That's all!"
   ]
  },
  {
   "cell_type": "code",
   "execution_count": null,
   "metadata": {},
   "outputs": [],
   "source": []
  }
 ],
 "metadata": {
  "kernelspec": {
   "display_name": "Python 3",
   "language": "python",
   "name": "python3"
  },
  "language_info": {
   "codemirror_mode": {
    "name": "ipython",
    "version": 3
   },
   "file_extension": ".py",
   "mimetype": "text/x-python",
   "name": "python",
   "nbconvert_exporter": "python",
   "pygments_lexer": "ipython3",
   "version": "3.6.3"
  },
  "toc": {
   "nav_menu": {},
   "number_sections": true,
   "sideBar": true,
   "skip_h1_title": false,
   "toc_cell": false,
   "toc_position": {},
   "toc_section_display": "block",
   "toc_window_display": false
  }
 },
 "nbformat": 4,
 "nbformat_minor": 2
}
