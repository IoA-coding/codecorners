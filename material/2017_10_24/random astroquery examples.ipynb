{
 "cells": [
  {
   "cell_type": "code",
   "execution_count": 1,
   "metadata": {},
   "outputs": [
    {
     "name": "stdout",
     "output_type": "stream",
     "text": [
      "0.3.6\n"
     ]
    }
   ],
   "source": [
    "import astroquery\n",
    "print(astroquery.__version__)"
   ]
  },
  {
   "cell_type": "markdown",
   "metadata": {},
   "source": [
    "Vizier Queries\n",
    "========"
   ]
  },
  {
   "cell_type": "code",
   "execution_count": 2,
   "metadata": {},
   "outputs": [
    {
     "data": {
      "text/plain": [
       "['VII/141: Spectrophotometric Atlas of Galaxies (Kennicutt Jr. 1992)',\n",
       " 'J/ApJ/463/26: VI photometry of 29 Cepheids in M101. (Kelson+ 1996)',\n",
       " 'J/ApJ/507/655: VI photometry of new Cepheids in NGC 2541 (Ferrarese+, 1998)',\n",
       " 'J/ApJ/508/491: M101 Cepheids (Stetson+, 1998)',\n",
       " 'J/ApJ/510/104: Ionizing Stars of Extragalactic H II Regions (Bresolin+ 1999)',\n",
       " 'J/ApJ/512/48: VI photometry of new Cepheids in NGC 4725 (Gibson+, 1999)',\n",
       " 'J/ApJ/514/614: VI photometry of new Cepheids in NGC 3198 (Kelson+, 1999)',\n",
       " 'J/ApJ/523/540: VI photometry of new Cepheids in NGC 3319 (Sakai+, 1999)',\n",
       " 'J/ApJ/529/723: VI photometry of Cepheids (Gibson+, 2000)',\n",
       " 'J/ApJ/633/871: Positions and photometry of HII knots in M51 (Calzetti+, 2005)',\n",
       " 'J/ApJ/646/161: Classification of IR galaxies (Dale+, 2006)',\n",
       " 'J/ApJ/648/987: UV through far-IR analysis of M81 (Perez-Gonzalez+, 2006)',\n",
       " 'J/ApJ/656/770: Mid-IR spectrum of star-forming galaxies (Smith+, 2007)',\n",
       " 'J/ApJ/661/801: Survey for ionization in neutral gas galaxies. III. (Oey+, 2007)',\n",
       " 'J/ApJ/669/959: Warm molecular hydrogen in SINGS galaxy sample (Roussel+, 2007)',\n",
       " 'J/ApJ/671/333: Aperture photometry in NGC 5194 (Kennicutt+, 2007)',\n",
       " 'J/ApJ/693/1821: The Spitzer infrared nearby galaxies survey (Dale+, 2009)',\n",
       " 'J/ApJ/695/580: Oxygen abundance in M83 (Bresolin+, 2009)',\n",
       " 'J/ApJ/701/1965: Radial dust properties of SINGS galaxies (Munoz-Mateos+, 2009)',\n",
       " 'J/ApJ/703/517: The Spitzer Local Volume Legacy: IR photometry (Dale+, 2009)',\n",
       " 'J/ApJ/703/1569: Radial distribution in SINGS galaxies. I. (Munoz-Mateos+, 2009)',\n",
       " 'J/ApJ/703/1672: Far-IR and H{alpha} fluxes in galaxies (Kennicutt+, 2009)',\n",
       " 'J/ApJ/706/553: Fluxes in nearby star-forming galaxies (Boquien+, 2009)',\n",
       " 'J/ApJ/706/599: H{alpha} and UV SFR in the local volume (Lee+, 2009)',\n",
       " 'J/ApJ/714/1256: Far-IR star formation rate indicators (Calzetti+, 2010)',\n",
       " 'J/ApJ/715/506: Aromatic inventory of the local volume (Marble+, 2010)',\n",
       " 'J/ApJ/731/28: UV star-forming association in spiral galaxies (Alberts+, 2011)',\n",
       " 'J/ApJ/737/L20: Metallicity dependent star formation rates (Dib, 2011)',\n",
       " 'J/ApJ/744/44: H{alpha} and UV fluxes in nearby galaxies (Weisz+, 2012)',\n",
       " 'J/ApJ/745/95: Herschel FIR & submm photometry of KINGFISH sample (Dale+, 2012)',\n",
       " 'J/ApJ/757/52: UV and IR observations for SINGS galaxies. I. (Mao+, 2012)',\n",
       " 'J/ApJ/767/51: Clusters of starburst galaxy NGC4214 (Andrews+, 2013)',\n",
       " 'J/ApJ/772/27: Pa{alpha} (1.87um) LF of HII regions in 12 galaxies (Liu+, 2013)',\n",
       " 'J/ApJ/772/107: Giant molecular clouds in nearby galaxies (Donovan Meyer+, 2013)',\n",
       " 'J/ApJ/824/71: Compact star clusters in M51 with HST (Chandar+, 2016)',\n",
       " 'J/ApJS/73/661: H II regions in M 101 (Hodge+ 1990)',\n",
       " 'J/ApJS/164/81: Spectrophotometry of nearby galaxies (Moustakas+, 2006)',\n",
       " 'J/ApJS/165/307: Survey for ionization in neutral gas galaxies. I. (Meurer+, 2006)',\n",
       " 'J/ApJS/173/572: GALEX/Spitzer photometry in NGC 7331 (Thilker+, 2007)',\n",
       " 'J/ApJS/178/247: H{alpha} and [NII] survey in local 11 Mpc (Kennicutt+, 2008)',\n",
       " 'J/ApJS/190/233: Spectroscopy and abundances of SINGS galaxies (Moustakas+, 2010)',\n",
       " 'J/ApJS/192/6: A GALEX UV imaging survey of nearby galaxies (Lee+, 2011)',\n",
       " 'J/ApJS/199/36: H{alpha} survey of nearby clusters of galaxies (Sakai+, 2012)',\n",
       " 'J/A+A/546/A2: Spectroscopy of HII regions in nearby galaxies (Sanchez+, 2012)',\n",
       " 'J/A+A/552/A19: Radio-farIR correlation in NGC 6946 (Tabatabaei+, 2013)',\n",
       " 'J/A+A/559/A114: Updated O3N2 and N2 abundance indicators (Marino+, 2013)',\n",
       " 'J/A+A/576/A33: KINGFISH galaxy sample radial profile SED (Hunt+, 2015)',\n",
       " 'J/A+A/576/A135: CALIFA DR2 (Garcia-Benito+, 2015)',\n",
       " 'J/A+A/584/A87: CALIFA sample SFR calibration (Catalan-Torrecilla+, 2015)',\n",
       " 'J/A+A/595/A43: Photometry of 119 HII regions in M33 (Relano+, 2016)',\n",
       " 'J/AJ/130/1324: Faint emission-line galaxies at z<=1.6 (Drozdovsky+, 2005)',\n",
       " 'J/AJ/132/231: MMT hectospec redshift survey of 24um sources (Papovich+, 2006)',\n",
       " 'J/AJ/136/2563: HI Nearby Galaxy Survey, THINGS (Walter+, 2008)',\n",
       " 'J/AJ/139/279: Outlying HII regions in HI-selected galaxies (Werk+, 2010)',\n",
       " 'J/AJ/141/23: HI holes in THINGS galaxies (Bagetakos+, 2011)',\n",
       " 'J/MNRAS/403/683: GALEX Arecibo SDSS survey (GASS) (Catinella+, 2010)',\n",
       " 'J/MNRAS/405/857: Star clusters in NGC 3256 (Goddard+, 2010)',\n",
       " 'J/MNRAS/412/1539: Ages of stars in dwarf galaxies (Bastian+, 2011)',\n",
       " 'J/MNRAS/433/543: Choirs, HI galaxy groups (Sweet+, 2013)',\n",
       " 'J/MNRAS/445/881: LVL global optical photometry (Cook+, 2014)',\n",
       " 'J/MNRAS/445/899: LVL SEDs and physical properties (Cook+, 2014)',\n",
       " 'J/MNRAS/454/3664: Abundance gradients in low SB spirals (Bresolin+, 2015)']"
      ]
     },
     "execution_count": 2,
     "metadata": {},
     "output_type": "execute_result"
    }
   ],
   "source": [
    "from astroquery.vizier import Vizier\n",
    "catalog_list = Vizier.find_catalogs('Kennicut')\n",
    "['{}: {}'.format(k, v.description) for k, v in catalog_list.items()]\n"
   ]
  },
  {
   "cell_type": "code",
   "execution_count": 3,
   "metadata": {},
   "outputs": [
    {
     "data": {
      "text/plain": [
       "TableList with 2 tables:\n",
       "\t'0:J/ApJS/178/247/11Mpc' with 20 column(s) and 50 row(s) \n",
       "\t'1:J/ApJS/178/247/refs' with 4 column(s) and 50 row(s) "
      ]
     },
     "execution_count": 3,
     "metadata": {},
     "output_type": "execute_result"
    }
   ],
   "source": [
    "Vizier.get_catalogs('J/ApJS/178/247')"
   ]
  },
  {
   "cell_type": "code",
   "execution_count": 4,
   "metadata": {},
   "outputs": [
    {
     "data": {
      "text/html": [
       "<i>Table masked=True length=50</i>\n",
       "<table id=\"table4604354512\" class=\"table-striped table-bordered table-condensed\">\n",
       "<thead><tr><th>Seq</th><th>Name</th><th>n_Name</th><th>RAJ2000</th><th>DEJ2000</th><th>TT</th><th>Bmag</th><th>cz</th><th>vLG</th><th>Dist</th><th>l_logf</th><th>logf</th><th>l_EW</th><th>EW</th><th>BMAG</th><th>NII_Ha</th><th>l_LHa</th><th>LHa</th><th>SimbadName</th><th>NED</th></tr></thead>\n",
       "<thead><tr><th></th><th></th><th></th><th>&quot;h:m:s&quot;</th><th>&quot;d:m:s&quot;</th><th></th><th>mag</th><th>km / s</th><th>km / s</th><th>Mpc</th><th></th><th>[mW/m2]</th><th></th><th>0.1 nm</th><th>mag</th><th></th><th></th><th>[10-7W]</th><th></th><th></th></tr></thead>\n",
       "<thead><tr><th>int16</th><th>bytes14</th><th>bytes1</th><th>bytes10</th><th>bytes9</th><th>int16</th><th>float32</th><th>int16</th><th>int16</th><th>float32</th><th>bytes1</th><th>float32</th><th>bytes1</th><th>float64</th><th>float32</th><th>float32</th><th>bytes1</th><th>float32</th><th>bytes24</th><th>bytes3</th></tr></thead>\n",
       "<tr><td>1</td><td>UGC12894</td><td>s</td><td>00 00 22.5</td><td>+39 29 44</td><td>10</td><td>16.55</td><td>335</td><td>618</td><td>8.20</td><td></td><td>-13.42</td><td></td><td>--</td><td>-13.48</td><td>0.04</td><td></td><td>38.58</td><td>UGC12894</td><td>NED</td></tr>\n",
       "<tr><td>2</td><td>WLM</td><td>p</td><td>00 01 58.1</td><td>-15 27 39</td><td>10</td><td>11.03</td><td>-122</td><td>-16</td><td>0.92</td><td></td><td>-11.68</td><td></td><td>25.0</td><td>-13.91</td><td>0.04</td><td></td><td>38.34</td><td>WLM</td><td>NED</td></tr>\n",
       "<tr><td>3</td><td>ESO409-IG015</td><td>s</td><td>00 05 31.8</td><td>-28 05 53</td><td>6</td><td>15.14</td><td>737</td><td>780</td><td>10.40</td><td></td><td>-12.34</td><td></td><td>262.0</td><td>-15.02</td><td>0.07</td><td></td><td>39.77</td><td>ESO409-IG015</td><td>NED</td></tr>\n",
       "<tr><td>4</td><td>ESO349-G031</td><td>s</td><td>00 08 13.3</td><td>-34 34 42</td><td>10</td><td>15.56</td><td>221</td><td>230</td><td>3.21</td><td>&lt;</td><td>-15.10</td><td></td><td>0.0</td><td>-12.03</td><td>0.02</td><td>&lt;</td><td>36.00</td><td>ESO349-G031</td><td>NED</td></tr>\n",
       "<tr><td>5</td><td>NGC24</td><td>p</td><td>00 09 56.7</td><td>-24 57 44</td><td>5</td><td>12.19</td><td>554</td><td>610</td><td>8.10</td><td></td><td>-11.87</td><td></td><td>19.0</td><td>-17.43</td><td>0.17</td><td></td><td>39.98</td><td>NGC24</td><td>NED</td></tr>\n",
       "<tr><td>6</td><td>NGC45</td><td>p</td><td>00 14 04.0</td><td>-23 10 55</td><td>8</td><td>11.32</td><td>467</td><td>530</td><td>7.10</td><td></td><td>-11.22</td><td></td><td>38.0</td><td>-18.00</td><td>0.22</td><td></td><td>40.49</td><td>NGC45</td><td>NED</td></tr>\n",
       "<tr><td>7</td><td>NGC55</td><td>p</td><td>00 14 54.0</td><td>-39 11 49</td><td>9</td><td>8.42</td><td>129</td><td>111</td><td>2.17</td><td></td><td>-10.12</td><td></td><td>41.0</td><td>-18.32</td><td>0.25</td><td></td><td>40.55</td><td>NGC55</td><td>NED</td></tr>\n",
       "<tr><td>8</td><td>NGC59</td><td>s</td><td>00 15 25.4</td><td>-21 26 42</td><td>-3</td><td>13.12</td><td>362</td><td>432</td><td>5.30</td><td></td><td>-12.36</td><td></td><td>38.0</td><td>-15.58</td><td>0.08</td><td></td><td>39.15</td><td>NGC59</td><td>NED</td></tr>\n",
       "<tr><td>9</td><td>MCG-04-02-003</td><td>s</td><td>00 19 11.4</td><td>-22 40 06</td><td>9</td><td>15.57</td><td>669</td><td>731</td><td>9.80</td><td></td><td>-13.15</td><td></td><td>26.0</td><td>-14.45</td><td>0.05</td><td></td><td>38.90</td><td>MCG-04-02-003</td><td>NED</td></tr>\n",
       "<tr><td>...</td><td>...</td><td>...</td><td>...</td><td>...</td><td>...</td><td>...</td><td>...</td><td>...</td><td>...</td><td>...</td><td>...</td><td>...</td><td>...</td><td>...</td><td>...</td><td>...</td><td>...</td><td>...</td><td>...</td></tr>\n",
       "<tr><td>41</td><td>NGC891</td><td>s</td><td>02 22 33.4</td><td>+42 20 57</td><td>3</td><td>10.81</td><td>528</td><td>738</td><td>9.20</td><td></td><td>-11.35</td><td></td><td>15.0</td><td>-19.29</td><td>0.36</td><td></td><td>40.59</td><td>NGC891</td><td>NED</td></tr>\n",
       "<tr><td>42</td><td>UGC1865</td><td>p</td><td>02 25 00.2</td><td>+36 02 16</td><td>9</td><td>14.37</td><td>580</td><td>774</td><td>9.20</td><td></td><td>-12.73</td><td></td><td>30.0</td><td>-15.69</td><td>0.09</td><td></td><td>39.30</td><td>UGC1865</td><td>NED</td></tr>\n",
       "<tr><td>43</td><td>NGC925</td><td>p</td><td>02 27 16.9</td><td>+33 34 45</td><td>7</td><td>10.69</td><td>553</td><td>739</td><td>9.16</td><td></td><td>-11.08</td><td></td><td>25.0</td><td>-19.41</td><td>0.38</td><td></td><td>40.85</td><td>NGC925</td><td>NED</td></tr>\n",
       "<tr><td>44</td><td>UGC1924</td><td>s</td><td>02 27 49.8</td><td>+31 43 36</td><td>6</td><td>15.23</td><td>598</td><td>778</td><td>10.40</td><td></td><td>-13.42</td><td></td><td>--</td><td>-15.16</td><td>0.07</td><td></td><td>38.74</td><td>UGC1924</td><td>NED</td></tr>\n",
       "<tr><td>45</td><td>NGC949</td><td>p</td><td>02 30 48.6</td><td>+37 08 14</td><td>4</td><td>12.40</td><td>609</td><td>801</td><td>9.20</td><td></td><td>-11.78</td><td></td><td>26.0</td><td>-17.62</td><td>0.19</td><td></td><td>40.20</td><td>NGC949</td><td>NED</td></tr>\n",
       "<tr><td>46</td><td>NGC959</td><td>p</td><td>02 32 24.0</td><td>+35 29 42</td><td>8</td><td>12.95</td><td>597</td><td>784</td><td>9.20</td><td></td><td>-12.09</td><td></td><td>38.0</td><td>-17.09</td><td>0.28</td><td></td><td>39.86</td><td>NGC959</td><td>NED</td></tr>\n",
       "<tr><td>47</td><td>UGC2014</td><td>s</td><td>02 32 54.0</td><td>+38 40 50</td><td>10</td><td>15.65</td><td>565</td><td>760</td><td>9.20</td><td></td><td>-13.34</td><td></td><td>16.0</td><td>-14.35</td><td>0.05</td><td></td><td>38.69</td><td>UGC2014</td><td>NED</td></tr>\n",
       "<tr><td>48</td><td>UGC2023</td><td>p</td><td>02 33 18.2</td><td>+33 29 28</td><td>10</td><td>13.88</td><td>589</td><td>770</td><td>9.20</td><td></td><td>-12.41</td><td></td><td>32.0</td><td>-16.30</td><td>0.10</td><td></td><td>39.64</td><td>UGC2023</td><td>NED</td></tr>\n",
       "<tr><td>49</td><td>UGC2034</td><td>s</td><td>02 33 42.9</td><td>+40 31 41</td><td>10</td><td>13.70</td><td>578</td><td>777</td><td>9.20</td><td></td><td>-12.51</td><td></td><td>11.0</td><td>-16.32</td><td>0.11</td><td></td><td>39.50</td><td>UGC2034</td><td>NED</td></tr>\n",
       "<tr><td>50</td><td>ESO115-G021</td><td>p</td><td>02 37 48.1</td><td>-61 20 18</td><td>8</td><td>13.34</td><td>515</td><td>339</td><td>4.99</td><td></td><td>-12.11</td><td></td><td>31.0</td><td>-15.21</td><td>0.07</td><td></td><td>39.35</td><td>ESO115-G021</td><td>NED</td></tr>\n",
       "</table>"
      ],
      "text/plain": [
       "<Table masked=True length=50>\n",
       " Seq       Name     n_Name  RAJ2000   ... l_LHa    LHa     SimbadName   NED  \n",
       "                            \"h:m:s\"   ...        [10-7W]                     \n",
       "int16    bytes14    bytes1  bytes10   ... bytes1 float32    bytes24    bytes3\n",
       "----- ------------- ------ ---------- ... ------ ------- ------------- ------\n",
       "    1      UGC12894      s 00 00 22.5 ...          38.58      UGC12894    NED\n",
       "    2           WLM      p 00 01 58.1 ...          38.34           WLM    NED\n",
       "    3  ESO409-IG015      s 00 05 31.8 ...          39.77  ESO409-IG015    NED\n",
       "    4   ESO349-G031      s 00 08 13.3 ...      <   36.00   ESO349-G031    NED\n",
       "    5         NGC24      p 00 09 56.7 ...          39.98         NGC24    NED\n",
       "    6         NGC45      p 00 14 04.0 ...          40.49         NGC45    NED\n",
       "    7         NGC55      p 00 14 54.0 ...          40.55         NGC55    NED\n",
       "    8         NGC59      s 00 15 25.4 ...          39.15         NGC59    NED\n",
       "    9 MCG-04-02-003      s 00 19 11.4 ...          38.90 MCG-04-02-003    NED\n",
       "  ...           ...    ...        ... ...    ...     ...           ...    ...\n",
       "   41        NGC891      s 02 22 33.4 ...          40.59        NGC891    NED\n",
       "   42       UGC1865      p 02 25 00.2 ...          39.30       UGC1865    NED\n",
       "   43        NGC925      p 02 27 16.9 ...          40.85        NGC925    NED\n",
       "   44       UGC1924      s 02 27 49.8 ...          38.74       UGC1924    NED\n",
       "   45        NGC949      p 02 30 48.6 ...          40.20        NGC949    NED\n",
       "   46        NGC959      p 02 32 24.0 ...          39.86        NGC959    NED\n",
       "   47       UGC2014      s 02 32 54.0 ...          38.69       UGC2014    NED\n",
       "   48       UGC2023      p 02 33 18.2 ...          39.64       UGC2023    NED\n",
       "   49       UGC2034      s 02 33 42.9 ...          39.50       UGC2034    NED\n",
       "   50   ESO115-G021      p 02 37 48.1 ...          39.35   ESO115-G021    NED"
      ]
     },
     "execution_count": 4,
     "metadata": {},
     "output_type": "execute_result"
    }
   ],
   "source": [
    "Vizier.get_catalogs('J/ApJS/178/247')[0]"
   ]
  },
  {
   "cell_type": "markdown",
   "metadata": {},
   "source": [
    "Customize class to get all columns and all lines (limited to 50 by default):"
   ]
  },
  {
   "cell_type": "code",
   "execution_count": 5,
   "metadata": {
    "collapsed": true
   },
   "outputs": [],
   "source": [
    "Custom_Vizier = Vizier(columns=['**'])\n",
    "Custom_Vizier.ROW_LIMIT = -1"
   ]
  },
  {
   "cell_type": "code",
   "execution_count": 6,
   "metadata": {},
   "outputs": [
    {
     "data": {
      "text/html": [
       "<i>Table masked=True length=436</i>\n",
       "<table id=\"table4604477168\" class=\"table-striped table-bordered table-condensed\">\n",
       "<thead><tr><th>Seq</th><th>Name</th><th>n_Name</th><th>RAJ2000</th><th>DEJ2000</th><th>GLat</th><th>TT</th><th>Bmag</th><th>e_Bmag</th><th>cz</th><th>vLG</th><th>Dist</th><th>n_Dist</th><th>Ref</th><th>l_logf</th><th>logf</th><th>e_logf</th><th>l_EW</th><th>EW</th><th>e_EW</th><th>n_EW</th><th>Tel</th><th>Cover</th><th>AB</th><th>BMAG</th><th>NII_Ha</th><th>r_NII_Ha</th><th>l_LHa</th><th>LHa</th><th>SimbadName</th><th>NED</th></tr></thead>\n",
       "<thead><tr><th></th><th></th><th></th><th>&quot;h:m:s&quot;</th><th>&quot;d:m:s&quot;</th><th>deg</th><th></th><th>mag</th><th>mag</th><th>km / s</th><th>km / s</th><th>Mpc</th><th></th><th></th><th></th><th>[mW/m2]</th><th>[mW/m2]</th><th></th><th>0.1 nm</th><th>0.1 nm</th><th></th><th></th><th></th><th>mag</th><th>mag</th><th></th><th></th><th></th><th>[10-7W]</th><th></th><th></th></tr></thead>\n",
       "<thead><tr><th>int16</th><th>bytes14</th><th>bytes1</th><th>bytes10</th><th>bytes9</th><th>float32</th><th>int16</th><th>float32</th><th>float32</th><th>int16</th><th>int16</th><th>float32</th><th>bytes7</th><th>bytes7</th><th>bytes1</th><th>float32</th><th>float32</th><th>bytes1</th><th>float64</th><th>float32</th><th>float32</th><th>bytes4</th><th>float32</th><th>float32</th><th>float32</th><th>float32</th><th>uint8</th><th>bytes1</th><th>float32</th><th>bytes24</th><th>bytes3</th></tr></thead>\n",
       "<tr><td>1</td><td>UGC12894</td><td>s</td><td>00 00 22.5</td><td>+39 29 44</td><td>-22.32</td><td>10</td><td>16.55</td><td>0.20</td><td>335</td><td>618</td><td>8.20</td><td>v(flow)</td><td>120</td><td></td><td>-13.42</td><td>0.030</td><td></td><td>--</td><td>--</td><td>2.3</td><td></td><td>--</td><td>0.45</td><td>-13.48</td><td>0.04</td><td>3</td><td></td><td>38.58</td><td>UGC12894</td><td>NED</td></tr>\n",
       "<tr><td>2</td><td>WLM</td><td>p</td><td>00 01 58.1</td><td>-15 27 39</td><td>-73.63</td><td>10</td><td>11.03</td><td>0.08</td><td>-122</td><td>-16</td><td>0.92</td><td>trgb</td><td>11, 118</td><td></td><td>-11.68</td><td>0.130</td><td></td><td>25.0</td><td>9.0</td><td>1.1</td><td>KPNO</td><td>2.2</td><td>0.13</td><td>-13.91</td><td>0.04</td><td>3</td><td></td><td>38.34</td><td>WLM</td><td>NED</td></tr>\n",
       "<tr><td>3</td><td>ESO409-IG015</td><td>s</td><td>00 05 31.8</td><td>-28 05 53</td><td>-79.79</td><td>6</td><td>15.14</td><td>0.19</td><td>737</td><td>780</td><td>10.40</td><td>v(flow)</td><td>111</td><td></td><td>-12.34</td><td>0.040</td><td></td><td>262.0</td><td>26.0</td><td>2.1</td><td></td><td>--</td><td>0.08</td><td>-15.02</td><td>0.07</td><td>3</td><td></td><td>39.77</td><td>ESO409-IG015</td><td>NED</td></tr>\n",
       "<tr><td>4</td><td>ESO349-G031</td><td>s</td><td>00 08 13.3</td><td>-34 34 42</td><td>-78.12</td><td>10</td><td>15.56</td><td>0.20</td><td>221</td><td>230</td><td>3.21</td><td>trgb</td><td>7, 111</td><td>&lt;</td><td>-15.10</td><td>--</td><td></td><td>0.0</td><td>--</td><td>2.2</td><td></td><td>--</td><td>0.05</td><td>-12.03</td><td>0.02</td><td>3</td><td>&lt;</td><td>36.00</td><td>ESO349-G031</td><td>NED</td></tr>\n",
       "<tr><td>5</td><td>NGC24</td><td>p</td><td>00 09 56.7</td><td>-24 57 44</td><td>-80.43</td><td>5</td><td>12.19</td><td>0.13</td><td>554</td><td>610</td><td>8.10</td><td>v(flow)</td><td>118</td><td></td><td>-11.87</td><td>0.040</td><td></td><td>19.0</td><td>1.0</td><td>2.1</td><td></td><td>--</td><td>0.07</td><td>-17.43</td><td>0.17</td><td>3</td><td></td><td>39.98</td><td>NGC24</td><td>NED</td></tr>\n",
       "<tr><td>6</td><td>NGC45</td><td>p</td><td>00 14 04.0</td><td>-23 10 55</td><td>-80.67</td><td>8</td><td>11.32</td><td>0.08</td><td>467</td><td>530</td><td>7.10</td><td>v(flow)</td><td>118</td><td></td><td>-11.22</td><td>0.040</td><td></td><td>38.0</td><td>10.0</td><td>2.2</td><td></td><td>--</td><td>0.07</td><td>-18.00</td><td>0.22</td><td>3</td><td></td><td>40.49</td><td>NGC45</td><td>NED</td></tr>\n",
       "<tr><td>7</td><td>NGC55</td><td>p</td><td>00 14 54.0</td><td>-39 11 49</td><td>-75.74</td><td>9</td><td>8.42</td><td>0.05</td><td>129</td><td>111</td><td>2.17</td><td>trgb</td><td>62, 118</td><td></td><td>-10.12</td><td>0.020</td><td></td><td>41.0</td><td>10.0</td><td>2.2</td><td></td><td>--</td><td>0.06</td><td>-18.32</td><td>0.25</td><td>3</td><td></td><td>40.55</td><td>NGC55</td><td>NED</td></tr>\n",
       "<tr><td>8</td><td>NGC59</td><td>s</td><td>00 15 25.4</td><td>-21 26 42</td><td>-80.02</td><td>-3</td><td>13.12</td><td>0.14</td><td>362</td><td>432</td><td>5.30</td><td>sbf</td><td>21, 118</td><td></td><td>-12.36</td><td>0.060</td><td></td><td>38.0</td><td>5.0</td><td>1.2</td><td>KPNO</td><td>1.0</td><td>0.07</td><td>-15.58</td><td>0.08</td><td>3</td><td></td><td>39.15</td><td>NGC59</td><td>NED</td></tr>\n",
       "<tr><td>9</td><td>MCG-04-02-003</td><td>s</td><td>00 19 11.4</td><td>-22 40 06</td><td>-81.44</td><td>9</td><td>15.57</td><td>0.32</td><td>669</td><td>731</td><td>9.80</td><td>v(flow)</td><td>111</td><td></td><td>-13.15</td><td>0.050</td><td></td><td>26.0</td><td>3.0</td><td>2.1</td><td></td><td>--</td><td>0.07</td><td>-14.45</td><td>0.05</td><td>3</td><td></td><td>38.90</td><td>MCG-04-02-003</td><td>NED</td></tr>\n",
       "<tr><td>...</td><td>...</td><td>...</td><td>...</td><td>...</td><td>...</td><td>...</td><td>...</td><td>...</td><td>...</td><td>...</td><td>...</td><td>...</td><td>...</td><td>...</td><td>...</td><td>...</td><td>...</td><td>...</td><td>...</td><td>...</td><td>...</td><td>...</td><td>...</td><td>...</td><td>...</td><td>...</td><td>...</td><td>...</td><td>...</td><td>...</td></tr>\n",
       "<tr><td>427</td><td>ESO347-G017</td><td>p</td><td>23 26 56.0</td><td>-37 20 49</td><td>-69.49</td><td>9</td><td>14.40</td><td>--</td><td>692</td><td>703</td><td>9.40</td><td>v(flow)</td><td>114</td><td></td><td>-12.53</td><td>0.050</td><td></td><td>34.0</td><td>4.0</td><td>1.1</td><td>CTIO</td><td>1.0</td><td>0.07</td><td>-15.52</td><td>0.08</td><td>3</td><td></td><td>39.48</td><td>ESO347-G017</td><td>NED</td></tr>\n",
       "<tr><td>428</td><td>UGC12613</td><td>p</td><td>23 28 36.2</td><td>+14 44 35</td><td>-43.55</td><td>10</td><td>12.50</td><td>0.15</td><td>-183</td><td>60</td><td>0.76</td><td>trgb</td><td>59, 120</td><td></td><td>-13.38</td><td>0.140</td><td></td><td>1.0</td><td>1.0</td><td>1.1</td><td>KPNO</td><td>1.0</td><td>0.19</td><td>-12.09</td><td>0.02</td><td>3</td><td></td><td>36.50</td><td>UGC12613</td><td>NED</td></tr>\n",
       "<tr><td>429</td><td>UGC12632</td><td>s</td><td>23 29 58.7</td><td>+40 59 25</td><td>-19.31</td><td>9</td><td>12.78</td><td>0.17</td><td>422</td><td>718</td><td>9.60</td><td>v(flow)</td><td>118</td><td></td><td>-12.18</td><td>0.040</td><td></td><td>40.0</td><td>6.0</td><td>1.2</td><td>KPNO</td><td>2.0</td><td>0.56</td><td>-17.69</td><td>0.19</td><td>3</td><td></td><td>39.92</td><td>UGC12632</td><td>NED</td></tr>\n",
       "<tr><td>430</td><td>IC5332</td><td>p</td><td>23 34 27.4</td><td>-36 06 05</td><td>-71.37</td><td>7</td><td>11.21</td><td>0.15</td><td>701</td><td>715</td><td>9.50</td><td>v(flow)</td><td>111</td><td></td><td>-11.31</td><td>0.060</td><td></td><td>23.0</td><td>4.0</td><td>2.1</td><td></td><td>--</td><td>0.07</td><td>-18.76</td><td>0.29</td><td>3</td><td></td><td>40.63</td><td>IC5332</td><td>NED</td></tr>\n",
       "<tr><td>431</td><td>NGC7713</td><td>p</td><td>23 36 15.4</td><td>-37 56 19</td><td>-70.88</td><td>7</td><td>11.51</td><td>0.15</td><td>692</td><td>696</td><td>9.30</td><td>v(flow)</td><td>118</td><td></td><td>-11.49</td><td>0.060</td><td></td><td>47.0</td><td>5.0</td><td>2.1</td><td></td><td>--</td><td>0.07</td><td>-18.40</td><td>0.15</td><td>1</td><td></td><td>40.48</td><td>NGC7713</td><td>NED</td></tr>\n",
       "<tr><td>432</td><td>UGC12713</td><td>p</td><td>23 38 14.4</td><td>+30 42 29</td><td>-29.58</td><td>0</td><td>14.91</td><td>0.03</td><td>299</td><td>578</td><td>7.70</td><td>v(flow)</td><td>120</td><td></td><td>-12.83</td><td>0.050</td><td></td><td>29.0</td><td>4.0</td><td>1.1</td><td>KPNO</td><td>1.0</td><td>0.25</td><td>-14.78</td><td>0.04</td><td>2</td><td></td><td>39.07</td><td>UGC12713</td><td>NED</td></tr>\n",
       "<tr><td>433</td><td>UGCA442</td><td>p</td><td>23 43 45.5</td><td>-31 57 22</td><td>-74.53</td><td>9</td><td>13.60</td><td>0.15</td><td>267</td><td>300</td><td>4.27</td><td>trgb</td><td>31, 118</td><td></td><td>-12.46</td><td>0.050</td><td></td><td>25.0</td><td>4.0</td><td>1.1</td><td>CTIO</td><td>1.0</td><td>0.07</td><td>-14.62</td><td>0.06</td><td>3</td><td></td><td>38.87</td><td>UGCA442</td><td>NED</td></tr>\n",
       "<tr><td>434</td><td>ESO348-G009</td><td>s</td><td>23 49 23.5</td><td>-37 46 19</td><td>-73.17</td><td>10</td><td>16.70</td><td>0.70</td><td>648</td><td>648</td><td>8.60</td><td>v(flow)</td><td>111</td><td></td><td>-13.17</td><td>0.050</td><td></td><td>17.0</td><td>2.0</td><td>2.1</td><td></td><td>--</td><td>0.06</td><td>-13.00</td><td>0.03</td><td>3</td><td></td><td>38.78</td><td>ESO348-G009</td><td>NED</td></tr>\n",
       "<tr><td>435</td><td>ESO149-G003</td><td>s</td><td>23 52 02.8</td><td>-52 34 40</td><td>-62.24</td><td>10</td><td>15.04</td><td>0.14</td><td>576</td><td>500</td><td>6.40</td><td>tf</td><td>31, 111</td><td></td><td>-12.74</td><td>0.030</td><td></td><td>43.0</td><td>3.0</td><td>2.1</td><td></td><td>--</td><td>0.06</td><td>-14.05</td><td>0.04</td><td>3</td><td></td><td>38.95</td><td>ESO149-G003</td><td>NED</td></tr>\n",
       "<tr><td>436</td><td>NGC7793</td><td>p</td><td>23 57 49.7</td><td>-32 35 30</td><td>-77.17</td><td>7</td><td>9.63</td><td>0.05</td><td>227</td><td>250</td><td>3.91</td><td>trgb</td><td>31, 118</td><td></td><td>-10.60</td><td>0.080</td><td></td><td>40.0</td><td>10.0</td><td>2.1</td><td></td><td>--</td><td>0.08</td><td>-18.41</td><td>0.25</td><td>3</td><td></td><td>40.58</td><td>NGC7793</td><td>NED</td></tr>\n",
       "</table>"
      ],
      "text/plain": [
       "<Table masked=True length=436>\n",
       " Seq       Name     n_Name  RAJ2000   ... l_LHa    LHa     SimbadName   NED  \n",
       "                            \"h:m:s\"   ...        [10-7W]                     \n",
       "int16    bytes14    bytes1  bytes10   ... bytes1 float32    bytes24    bytes3\n",
       "----- ------------- ------ ---------- ... ------ ------- ------------- ------\n",
       "    1      UGC12894      s 00 00 22.5 ...          38.58      UGC12894    NED\n",
       "    2           WLM      p 00 01 58.1 ...          38.34           WLM    NED\n",
       "    3  ESO409-IG015      s 00 05 31.8 ...          39.77  ESO409-IG015    NED\n",
       "    4   ESO349-G031      s 00 08 13.3 ...      <   36.00   ESO349-G031    NED\n",
       "    5         NGC24      p 00 09 56.7 ...          39.98         NGC24    NED\n",
       "    6         NGC45      p 00 14 04.0 ...          40.49         NGC45    NED\n",
       "    7         NGC55      p 00 14 54.0 ...          40.55         NGC55    NED\n",
       "    8         NGC59      s 00 15 25.4 ...          39.15         NGC59    NED\n",
       "    9 MCG-04-02-003      s 00 19 11.4 ...          38.90 MCG-04-02-003    NED\n",
       "  ...           ...    ...        ... ...    ...     ...           ...    ...\n",
       "  427   ESO347-G017      p 23 26 56.0 ...          39.48   ESO347-G017    NED\n",
       "  428      UGC12613      p 23 28 36.2 ...          36.50      UGC12613    NED\n",
       "  429      UGC12632      s 23 29 58.7 ...          39.92      UGC12632    NED\n",
       "  430        IC5332      p 23 34 27.4 ...          40.63        IC5332    NED\n",
       "  431       NGC7713      p 23 36 15.4 ...          40.48       NGC7713    NED\n",
       "  432      UGC12713      p 23 38 14.4 ...          39.07      UGC12713    NED\n",
       "  433       UGCA442      p 23 43 45.5 ...          38.87       UGCA442    NED\n",
       "  434   ESO348-G009      s 23 49 23.5 ...          38.78   ESO348-G009    NED\n",
       "  435   ESO149-G003      s 23 52 02.8 ...          38.95   ESO149-G003    NED\n",
       "  436       NGC7793      p 23 57 49.7 ...          40.58       NGC7793    NED"
      ]
     },
     "execution_count": 6,
     "metadata": {},
     "output_type": "execute_result"
    }
   ],
   "source": [
    "Custom_Vizier.get_catalogs('J/ApJS/178/247')[0]"
   ]
  },
  {
   "cell_type": "markdown",
   "metadata": {},
   "source": [
    "SQL in SDSS\n",
    "==========="
   ]
  },
  {
   "cell_type": "code",
   "execution_count": 8,
   "metadata": {},
   "outputs": [
    {
     "data": {
      "text/html": [
       "<i>Table length=10</i>\n",
       "<table id=\"table4604561840\" class=\"table-striped table-bordered table-condensed\">\n",
       "<thead><tr><th>z</th><th>ra</th><th>dec</th><th>bestObjID</th></tr></thead>\n",
       "<thead><tr><th>float64</th><th>float64</th><th>float64</th><th>int64</th></tr></thead>\n",
       "<tr><td>0.3000005</td><td>174.54051</td><td>24.200028</td><td>1237667549812162759</td></tr>\n",
       "<tr><td>0.3000012</td><td>49.459411</td><td>0.847754</td><td>1237660241924063461</td></tr>\n",
       "<tr><td>0.3000027</td><td>156.25024</td><td>7.6586271</td><td>1237658425162858683</td></tr>\n",
       "<tr><td>0.3000035</td><td>184.90501</td><td>-3.3095095</td><td>1237650760782053596</td></tr>\n",
       "<tr><td>0.3000046</td><td>175.65125</td><td>34.37548</td><td>1237665128003731630</td></tr>\n",
       "<tr><td>0.3000049</td><td>355.06402</td><td>11.065502</td><td>1237679320160993477</td></tr>\n",
       "<tr><td>0.3000053</td><td>236.61952</td><td>0.79678773</td><td>1237655468065620483</td></tr>\n",
       "<tr><td>0.3000054</td><td>138.22411</td><td>22.719858</td><td>1237667111721042523</td></tr>\n",
       "<tr><td>0.3000055</td><td>156.156</td><td>49.615565</td><td>1237657857677000910</td></tr>\n",
       "<tr><td>0.3000057</td><td>234.24011</td><td>7.7657256</td><td>1237661949202137472</td></tr>\n",
       "</table>"
      ],
      "text/plain": [
       "<Table length=10>\n",
       "    z         ra       dec          bestObjID     \n",
       " float64   float64   float64          int64       \n",
       "--------- --------- ---------- -------------------\n",
       "0.3000005 174.54051  24.200028 1237667549812162759\n",
       "0.3000012 49.459411   0.847754 1237660241924063461\n",
       "0.3000027 156.25024  7.6586271 1237658425162858683\n",
       "0.3000035 184.90501 -3.3095095 1237650760782053596\n",
       "0.3000046 175.65125   34.37548 1237665128003731630\n",
       "0.3000049 355.06402  11.065502 1237679320160993477\n",
       "0.3000053 236.61952 0.79678773 1237655468065620483\n",
       "0.3000054 138.22411  22.719858 1237667111721042523\n",
       "0.3000055   156.156  49.615565 1237657857677000910\n",
       "0.3000057 234.24011  7.7657256 1237661949202137472"
      ]
     },
     "execution_count": 8,
     "metadata": {},
     "output_type": "execute_result"
    }
   ],
   "source": [
    "from astroquery.sdss import SDSS\n",
    "\n",
    "sdss = SDSS()\n",
    "\n",
    "query = \"select top 10 z, ra, dec, bestObjID from specObj where class = 'galaxy' and z > 0.3 and zWarning = 0\"\n",
    "        \n",
    "sdss.query_sql(query)"
   ]
  },
  {
   "cell_type": "markdown",
   "metadata": {},
   "source": [
    "Query for the same object either by name or by coordinates\n",
    "=========================================================="
   ]
  },
  {
   "cell_type": "code",
   "execution_count": 9,
   "metadata": {},
   "outputs": [],
   "source": [
    "from astropy.coordinates import SkyCoord\n",
    "coord_hd189 = SkyCoord('20h00m43.71s +22d42m39.07s')"
   ]
  },
  {
   "cell_type": "code",
   "execution_count": 10,
   "metadata": {
    "collapsed": true
   },
   "outputs": [],
   "source": [
    "from astroquery.esasky import ESASky\n",
    "esasky = ESASky()"
   ]
  },
  {
   "cell_type": "code",
   "execution_count": 11,
   "metadata": {},
   "outputs": [
    {
     "data": {
      "text/plain": [
       "TableList with 6 tables:\n",
       "\t'0:XMM-EPIC' with 6 column(s) and 17 row(s) \n",
       "\t'1:TYCHO-2' with 7 column(s) and 1 row(s) \n",
       "\t'2:HIPPARCOS-2' with 7 column(s) and 1 row(s) \n",
       "\t'3:GAIA DR1 TGAS' with 10 column(s) and 1 row(s) \n",
       "\t'4:XMM-OM' with 12 column(s) and 5 row(s) \n",
       "\t'5:GAIA DR1' with 7 column(s) and 1 row(s) "
      ]
     },
     "execution_count": 11,
     "metadata": {},
     "output_type": "execute_result"
    }
   ],
   "source": [
    "esasky.query_object_catalogs(coord_hd189)"
   ]
  },
  {
   "cell_type": "code",
   "execution_count": 12,
   "metadata": {},
   "outputs": [
    {
     "data": {
      "text/plain": [
       "TableList with 6 tables:\n",
       "\t'0:XMM-EPIC' with 6 column(s) and 17 row(s) \n",
       "\t'1:TYCHO-2' with 7 column(s) and 1 row(s) \n",
       "\t'2:HIPPARCOS-2' with 7 column(s) and 1 row(s) \n",
       "\t'3:GAIA DR1 TGAS' with 10 column(s) and 1 row(s) \n",
       "\t'4:XMM-OM' with 12 column(s) and 5 row(s) \n",
       "\t'5:GAIA DR1' with 7 column(s) and 1 row(s) "
      ]
     },
     "execution_count": 12,
     "metadata": {},
     "output_type": "execute_result"
    }
   ],
   "source": [
    "esasky.query_object_catalogs('HD189733')"
   ]
  },
  {
   "cell_type": "code",
   "execution_count": null,
   "metadata": {
    "collapsed": true
   },
   "outputs": [],
   "source": []
  }
 ],
 "metadata": {
  "kernelspec": {
   "display_name": "Python 3",
   "language": "python",
   "name": "python3"
  },
  "language_info": {
   "codemirror_mode": {
    "name": "ipython",
    "version": 3
   },
   "file_extension": ".py",
   "mimetype": "text/x-python",
   "name": "python",
   "nbconvert_exporter": "python",
   "pygments_lexer": "ipython3",
   "version": "3.5.4"
  }
 },
 "nbformat": 4,
 "nbformat_minor": 2
}
